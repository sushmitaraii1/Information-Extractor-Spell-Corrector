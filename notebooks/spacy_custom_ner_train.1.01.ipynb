{
 "cells": [
  {
   "cell_type": "code",
   "execution_count": 1,
   "id": "11b45f76",
   "metadata": {},
   "outputs": [],
   "source": [
    "TRAIN_DATA = [\n",
    "    (\n",
    "        'Doctor John is a medical expert who works in the field of medicine, which focuses on preserving, restoring, and promoting health through the investigation, diagnosis, and care of illness, trauma, and other physical and mental impairments.\\nDoctor John is a health professional who practices medicine, which focuses on promoting, maintaining, or restoring health through the investigation, diagnosis, and treatment of illness, trauma, and other physical and mental problems.\\n\\nA professional engineer is qualified to use the scientific approach and method to analyze and resolve engineering problems because of their foundational education and training. It is possible for him or her to take personal responsibility for the advancement and application of engineering science and knowledge, particularly in research, design, construction, manufacturing, supervising, managing, and engineering education. His or her work is not of a routine mental or physical nature, but is mostly intellectual and diversified. It necessitates the use of independent judgment and innovative thought, as well as the capacity to manage the technical and administrative work of others.His or her education will have been such that he or she is capable of consistently and closely monitoring advancements in his or her field of engineering science by consulting freshly published works across the globe, absorbing this knowledge, and applying it autonomously. In this way, he or she is given the opportunity to contribute to the advancement of engineering science or its applications. His or her education and training will have been such that he or she will have attained both a thorough understanding of the unique characteristics of his or her own branch as well as a broad and general grasp of the engineering sciences. He or she will eventually be able to provide authoritative technical counsel and take control of the direction of crucial tasks in his or her branch.\\n\\n\\nBecause of his or her foundational education and training, a professional engineer is qualified to analyze engineering problems using the scientific method, and to find solutions to them. He or she is capable of taking personal accountability for the advancement and application of engineering science and knowledge, namely in research, design, construction, manufacturing, supervising, managing, and the training of engineers. Instead of being of a routine mental or physical nature, his or her labor is mostly intellectual and diversified. It necessitates the application of original ideas and judgment as well as the capacity to manage the technical and administrative work of others. His or her education will have prepared him or her to be able to freely assimilate material from freshly published works, track advancements in his or her field of engineering science intently, and do so continually. Because of this, he or she is in a position to contribute to the advancement of engineering science or its applications. He or she will have received an education and training that have allowed them to have a solid understanding of the unique characteristics of their particular area of engineering as well as a broad and general knowledge of the engineering sciences. He or she will eventually be qualified to offer sound technical counsel and to take charge of overseeing crucial projects within his or her branch.\\n\\n\\nThe infrared homing (\"heat seeking\") guidance systems on many early air-to-air and surface-to-air missiles were quite basic and had a small field of view. These missiles were easily avoidable by making a quick spin, which effectively made the missile lose sight of the intended aircraft. Another strategy involved using evasive maneuvers to take advantage of a missile\\'s short range until its fuel ran out. The guiding mechanism on contemporary infrared missiles, such the AIM-9 Sidewinder, is more sophisticated. Software aids the missile in flying toward its target, and supercooled infrared detectors assist the missile in locating a potential exhaust source. Normally, pilots will drop flares to confound or decoy these missiles by producing several heat signatures that are hotter than the defending aircraft for the missile to lock onto and guide away from.\\nSurface items or geographical features can occasionally confound radar homing missiles, confusing the guidance mechanism of the missile or the ground station guiding it. If the airplane is too high to exploit geographic impediments, chaff is a backup strategy. Pilots must recognize potential dangers and learn to differentiate between them where possible. They can tell what kinds of signals are striking their aircraft by using the RWR (radar warning receiver).\\n\\n\\nVery basic infrared homing (\"heat seeking\") guidance systems with a restricted field of view were common in early air-to-air and surface-to-air missiles. Simple quick turns effectively allowed the missile to lose sight of the target aircraft, allowing it to be averted. Another strategy was to take advantage of a missile\\'s short range by conducting evasive maneuvers up until the rockets ran out of fuel. Modern infrared missiles feature more sophisticated guidance systems, such as the AIM-9 Sidewinder. The missile uses algorithms to help it fly toward its target and supercooled infrared detectors to help it locate a potential exhaust source. By establishing various heat signatures that are hotter than the aircraft so that the missile can lock onto them and steer away from the defending aircraft, pilots typically drop flares to confound or decoy these missiles.\\nSurface items or geographical features that create clutter for the guidance system of the missile or the ground station guiding it can occasionally mislead radar homing missiles. If the aircraft is too high to employ geographic impediments, another alternative is to use chaff. Pilots need to be aware of potential dangers and develop the ability to differentiate between them where possible. To identify the different signal types impacting their aircraft, they employ the RWR (radar warning receiver).\\n\\n\\n',\n",
    "        {\n",
    "            \"entities\": [\n",
    "                (0, 6, \"PROFESSION\"),\n",
    "                (17, 31, \"PROFESSION\"),\n",
    "                (239, 245, \"PROFESSION\"),\n",
    "                (489, 497, \"PROFESSION\"),\n",
    "                (2025, 2033, \"PROFESSION\"),\n",
    "                (2368, 2377, \"PROFESSION\"),\n",
    "                (4048, 4054, \"PROFESSION\"),\n",
    "                (4500, 4506, \"PROFESSION\"),\n",
    "                (5510, 5516, \"PROFESSION\"),\n",
    "                (5854, 5860, \"PROFESSION\"),\n",
    "            ]\n",
    "        },\n",
    "    )\n",
    "]"
   ]
  },
  {
   "cell_type": "code",
   "execution_count": 2,
   "id": "088eab7d",
   "metadata": {},
   "outputs": [
    {
     "name": "stderr",
     "output_type": "stream",
     "text": [
      "100%|█████████████████████████████████████████████████████████████████████████████████████████████████████████████████████████████████████████████████████| 1/1 [00:00<00:00, 100.01it/s]\n"
     ]
    }
   ],
   "source": [
    "import pandas as pd\n",
    "from tqdm import tqdm\n",
    "import spacy\n",
    "from spacy.tokens import DocBin\n",
    "\n",
    "nlp = spacy.blank(\"en\") # load a new spacy model\n",
    "db = DocBin() # create a DocBin object\n",
    "\n",
    "for text, annot in tqdm(TRAIN_DATA): # data in previous format\n",
    "    doc = nlp.make_doc(text) # create doc object from text\n",
    "    ents = []\n",
    "    for start, end, label in annot[\"entities\"]: # add character indexes\n",
    "        span = doc.char_span(start, end, label=label, alignment_mode=\"contract\")\n",
    "        if span is None:\n",
    "            print(\"Skipping entity\")\n",
    "        else:\n",
    "            ents.append(span)\n",
    "    doc.ents = ents # label the text with the ents\n",
    "    db.add(doc)\n",
    "db.to_disk(\"../data/processed/train.spacy\") "
   ]
  },
  {
   "cell_type": "code",
   "execution_count": 3,
   "id": "8197b10d",
   "metadata": {},
   "outputs": [
    {
     "name": "stdout",
     "output_type": "stream",
     "text": [
      "\u001b[38;5;2m✔ Auto-filled config with all values\u001b[0m\r\n",
      "\u001b[38;5;2m✔ Saved config\u001b[0m\r\n",
      "spacy_configs/config.cfg\r\n",
      "You can now add your data and train your pipeline:\r\n",
      "python -m spacy train config.cfg --paths.train ./train.spacy --paths.dev ./dev.spacy\r\n"
     ]
    }
   ],
   "source": [
    "!python -m spacy init fill-config ./spacy_configs/base_config.cfg ./spacy_configs/config.cfg"
   ]
  },
  {
   "cell_type": "code",
   "execution_count": 25,
   "id": "39e9e216",
   "metadata": {
    "collapsed": true
   },
   "outputs": [
    {
     "name": "stdout",
     "output_type": "stream",
     "text": [
      "Collecting en-core-web-lg==3.4.0\n",
      "  Downloading https://github.com/explosion/spacy-models/releases/download/en_core_web_lg-3.4.0/en_core_web_lg-3.4.0-py3-none-any.whl (587.7 MB)\n",
      "\u001b[2K     \u001b[38;2;114;156;31m━━━━━━━━━━━━━━━━━━━━━━━━━━━━━━━━━━━━━━━\u001b[0m \u001b[32m587.7/587.7 MB\u001b[0m \u001b[31m5.7 MB/s\u001b[0m eta \u001b[36m0:00:00\u001b[0mm eta \u001b[36m0:00:01\u001b[0m[36m0:00:02\u001b[0m\n",
      "\u001b[?25hRequirement already satisfied: spacy<3.5.0,>=3.4.0 in /home/fm-pc-lt-21/anaconda3/envs/optible_env/lib/python3.10/site-packages (from en-core-web-lg==3.4.0) (3.4.0)\n",
      "Requirement already satisfied: wasabi<1.1.0,>=0.9.1 in /home/fm-pc-lt-21/anaconda3/envs/optible_env/lib/python3.10/site-packages (from spacy<3.5.0,>=3.4.0->en-core-web-lg==3.4.0) (0.9.1)\n",
      "Requirement already satisfied: numpy>=1.15.0 in /home/fm-pc-lt-21/anaconda3/envs/optible_env/lib/python3.10/site-packages (from spacy<3.5.0,>=3.4.0->en-core-web-lg==3.4.0) (1.23.1)\n",
      "Requirement already satisfied: murmurhash<1.1.0,>=0.28.0 in /home/fm-pc-lt-21/anaconda3/envs/optible_env/lib/python3.10/site-packages (from spacy<3.5.0,>=3.4.0->en-core-web-lg==3.4.0) (1.0.7)\n",
      "Requirement already satisfied: srsly<3.0.0,>=2.4.3 in /home/fm-pc-lt-21/anaconda3/envs/optible_env/lib/python3.10/site-packages (from spacy<3.5.0,>=3.4.0->en-core-web-lg==3.4.0) (2.4.3)\n",
      "Requirement already satisfied: typer<0.5.0,>=0.3.0 in /home/fm-pc-lt-21/anaconda3/envs/optible_env/lib/python3.10/site-packages (from spacy<3.5.0,>=3.4.0->en-core-web-lg==3.4.0) (0.4.2)\n",
      "Requirement already satisfied: requests<3.0.0,>=2.13.0 in /home/fm-pc-lt-21/anaconda3/envs/optible_env/lib/python3.10/site-packages (from spacy<3.5.0,>=3.4.0->en-core-web-lg==3.4.0) (2.28.1)\n",
      "Requirement already satisfied: spacy-loggers<2.0.0,>=1.0.0 in /home/fm-pc-lt-21/anaconda3/envs/optible_env/lib/python3.10/site-packages (from spacy<3.5.0,>=3.4.0->en-core-web-lg==3.4.0) (1.0.2)\n",
      "Requirement already satisfied: tqdm<5.0.0,>=4.38.0 in /home/fm-pc-lt-21/anaconda3/envs/optible_env/lib/python3.10/site-packages (from spacy<3.5.0,>=3.4.0->en-core-web-lg==3.4.0) (4.64.0)\n",
      "Requirement already satisfied: thinc<8.2.0,>=8.1.0 in /home/fm-pc-lt-21/anaconda3/envs/optible_env/lib/python3.10/site-packages (from spacy<3.5.0,>=3.4.0->en-core-web-lg==3.4.0) (8.1.0)\n",
      "Requirement already satisfied: spacy-legacy<3.1.0,>=3.0.9 in /home/fm-pc-lt-21/anaconda3/envs/optible_env/lib/python3.10/site-packages (from spacy<3.5.0,>=3.4.0->en-core-web-lg==3.4.0) (3.0.9)\n",
      "Requirement already satisfied: cymem<2.1.0,>=2.0.2 in /home/fm-pc-lt-21/anaconda3/envs/optible_env/lib/python3.10/site-packages (from spacy<3.5.0,>=3.4.0->en-core-web-lg==3.4.0) (2.0.6)\n",
      "Requirement already satisfied: jinja2 in /home/fm-pc-lt-21/anaconda3/envs/optible_env/lib/python3.10/site-packages (from spacy<3.5.0,>=3.4.0->en-core-web-lg==3.4.0) (3.1.2)\n",
      "Requirement already satisfied: pydantic!=1.8,!=1.8.1,<1.10.0,>=1.7.4 in /home/fm-pc-lt-21/anaconda3/envs/optible_env/lib/python3.10/site-packages (from spacy<3.5.0,>=3.4.0->en-core-web-lg==3.4.0) (1.9.1)\n",
      "Requirement already satisfied: setuptools in /home/fm-pc-lt-21/anaconda3/envs/optible_env/lib/python3.10/site-packages (from spacy<3.5.0,>=3.4.0->en-core-web-lg==3.4.0) (63.1.0)\n",
      "Requirement already satisfied: pathy>=0.3.5 in /home/fm-pc-lt-21/anaconda3/envs/optible_env/lib/python3.10/site-packages (from spacy<3.5.0,>=3.4.0->en-core-web-lg==3.4.0) (0.6.2)\n",
      "Requirement already satisfied: preshed<3.1.0,>=3.0.2 in /home/fm-pc-lt-21/anaconda3/envs/optible_env/lib/python3.10/site-packages (from spacy<3.5.0,>=3.4.0->en-core-web-lg==3.4.0) (3.0.6)\n",
      "Requirement already satisfied: langcodes<4.0.0,>=3.2.0 in /home/fm-pc-lt-21/anaconda3/envs/optible_env/lib/python3.10/site-packages (from spacy<3.5.0,>=3.4.0->en-core-web-lg==3.4.0) (3.3.0)\n",
      "Requirement already satisfied: catalogue<2.1.0,>=2.0.6 in /home/fm-pc-lt-21/anaconda3/envs/optible_env/lib/python3.10/site-packages (from spacy<3.5.0,>=3.4.0->en-core-web-lg==3.4.0) (2.0.7)\n",
      "Requirement already satisfied: packaging>=20.0 in /home/fm-pc-lt-21/anaconda3/envs/optible_env/lib/python3.10/site-packages (from spacy<3.5.0,>=3.4.0->en-core-web-lg==3.4.0) (21.3)\n",
      "Requirement already satisfied: pyparsing!=3.0.5,>=2.0.2 in /home/fm-pc-lt-21/anaconda3/envs/optible_env/lib/python3.10/site-packages (from packaging>=20.0->spacy<3.5.0,>=3.4.0->en-core-web-lg==3.4.0) (3.0.9)\n",
      "Requirement already satisfied: smart-open<6.0.0,>=5.2.1 in /home/fm-pc-lt-21/anaconda3/envs/optible_env/lib/python3.10/site-packages (from pathy>=0.3.5->spacy<3.5.0,>=3.4.0->en-core-web-lg==3.4.0) (5.2.1)\n",
      "Requirement already satisfied: typing-extensions>=3.7.4.3 in /home/fm-pc-lt-21/anaconda3/envs/optible_env/lib/python3.10/site-packages (from pydantic!=1.8,!=1.8.1,<1.10.0,>=1.7.4->spacy<3.5.0,>=3.4.0->en-core-web-lg==3.4.0) (4.3.0)\n",
      "Requirement already satisfied: urllib3<1.27,>=1.21.1 in /home/fm-pc-lt-21/anaconda3/envs/optible_env/lib/python3.10/site-packages (from requests<3.0.0,>=2.13.0->spacy<3.5.0,>=3.4.0->en-core-web-lg==3.4.0) (1.26.10)\n",
      "Requirement already satisfied: idna<4,>=2.5 in /home/fm-pc-lt-21/anaconda3/envs/optible_env/lib/python3.10/site-packages (from requests<3.0.0,>=2.13.0->spacy<3.5.0,>=3.4.0->en-core-web-lg==3.4.0) (3.3)\n",
      "Requirement already satisfied: charset-normalizer<3,>=2 in /home/fm-pc-lt-21/anaconda3/envs/optible_env/lib/python3.10/site-packages (from requests<3.0.0,>=2.13.0->spacy<3.5.0,>=3.4.0->en-core-web-lg==3.4.0) (2.1.0)\n",
      "Requirement already satisfied: certifi>=2017.4.17 in /home/fm-pc-lt-21/anaconda3/envs/optible_env/lib/python3.10/site-packages (from requests<3.0.0,>=2.13.0->spacy<3.5.0,>=3.4.0->en-core-web-lg==3.4.0) (2022.6.15)\n",
      "Requirement already satisfied: blis<0.8.0,>=0.7.8 in /home/fm-pc-lt-21/anaconda3/envs/optible_env/lib/python3.10/site-packages (from thinc<8.2.0,>=8.1.0->spacy<3.5.0,>=3.4.0->en-core-web-lg==3.4.0) (0.7.8)\n",
      "Requirement already satisfied: click<9.0.0,>=7.1.1 in /home/fm-pc-lt-21/anaconda3/envs/optible_env/lib/python3.10/site-packages (from typer<0.5.0,>=0.3.0->spacy<3.5.0,>=3.4.0->en-core-web-lg==3.4.0) (8.1.3)\n",
      "Requirement already satisfied: MarkupSafe>=2.0 in /home/fm-pc-lt-21/anaconda3/envs/optible_env/lib/python3.10/site-packages (from jinja2->spacy<3.5.0,>=3.4.0->en-core-web-lg==3.4.0) (2.1.1)\n",
      "Installing collected packages: en-core-web-lg\n",
      "Successfully installed en-core-web-lg-3.4.0\n",
      "\u001b[38;5;2m✔ Download and installation successful\u001b[0m\n",
      "You can now load the package via spacy.load('en_core_web_lg')\n"
     ]
    }
   ],
   "source": [
    "# !python -m spacy download en_core_web_lg"
   ]
  },
  {
   "cell_type": "code",
   "execution_count": 4,
   "id": "140e5ed7",
   "metadata": {
    "scrolled": true
   },
   "outputs": [
    {
     "name": "stdout",
     "output_type": "stream",
     "text": [
      "\u001b[38;5;2m✔ Created output directory: ../api/models/output\u001b[0m\n",
      "\u001b[38;5;4mℹ Saving to output directory: ../api/models/output\u001b[0m\n",
      "\u001b[38;5;4mℹ Using CPU\u001b[0m\n",
      "\u001b[1m\n",
      "=========================== Initializing pipeline ===========================\u001b[0m\n",
      "[2022-07-15 10:59:43,712] [INFO] Set up nlp object from config\n",
      "[2022-07-15 10:59:43,717] [INFO] Pipeline: ['tok2vec', 'ner']\n",
      "[2022-07-15 10:59:43,719] [INFO] Created vocabulary\n",
      "[2022-07-15 10:59:45,525] [INFO] Added vectors: en_core_web_lg\n",
      "[2022-07-15 10:59:46,613] [INFO] Finished initializing nlp object\n",
      "[2022-07-15 10:59:47,303] [INFO] Initialized pipeline components: ['tok2vec', 'ner']\n",
      "\u001b[38;5;2m✔ Initialized pipeline\u001b[0m\n",
      "\u001b[1m\n",
      "============================= Training pipeline =============================\u001b[0m\n",
      "\u001b[38;5;4mℹ Pipeline: ['tok2vec', 'ner']\u001b[0m\n",
      "\u001b[38;5;4mℹ Initial learn rate: 0.001\u001b[0m\n",
      "E    #       LOSS TOK2VEC  LOSS NER  ENTS_F  ENTS_P  ENTS_R  SCORE \n",
      "---  ------  ------------  --------  ------  ------  ------  ------\n",
      "  0       0          0.00    367.33    7.69    4.26   40.00    0.08\n",
      "200     200          2.08   4120.88  100.00  100.00  100.00    1.00\n",
      "400     400          0.00      0.00  100.00  100.00  100.00    1.00\n",
      "600     600          0.00      0.00  100.00  100.00  100.00    1.00\n",
      "800     800          0.00      0.00  100.00  100.00  100.00    1.00\n",
      "1000    1000          0.00      0.00  100.00  100.00  100.00    1.00\n",
      "1200    1200          0.00      0.00  100.00  100.00  100.00    1.00\n",
      "1400    1400          0.00      0.00  100.00  100.00  100.00    1.00\n",
      "1600    1600          0.00      0.00  100.00  100.00  100.00    1.00\n",
      "1800    1800          0.00      0.00  100.00  100.00  100.00    1.00\n",
      "\u001b[38;5;2m✔ Saved pipeline to output directory\u001b[0m\n",
      "../api/models/output/model-last\n"
     ]
    }
   ],
   "source": [
    "!python -m spacy train ./spacy_configs/config.cfg --output ../api/models/output --paths.train ../data/processed/train.spacy --paths.dev ../data/processed/train.spacy"
   ]
  },
  {
   "cell_type": "code",
   "execution_count": 5,
   "id": "9342d79d",
   "metadata": {},
   "outputs": [],
   "source": [
    "nlp = spacy.load(\"../api/models/output/model-best\") "
   ]
  },
  {
   "cell_type": "code",
   "execution_count": 6,
   "id": "ab21ddc0",
   "metadata": {},
   "outputs": [],
   "source": [
    "doc = nlp(\"\"\"Many early air-to-air and surface-to-air missiles had very simple infrared\n",
    "homing (\"heat seeking\") guidance systems with a narrow field of view. These\n",
    "missiles could be avoided by simply turning sharply, which essentially caused\n",
    "the missile to lose sight of the target aircraft. Another tactic was to exploit a\n",
    "missile&#39;s limited range by performing evasive manoeuvres until the missiles\n",
    "had run out of fuel.Modern infrared missiles, like the AIM-9 Sidewinder, have\n",
    "a more advanced guidance system. Supercooled infrared detectors help the\n",
    "missile find a possible exhaust source, and software assists the missile in\n",
    "flying towards its target. Pilots normally drop flares to confuse or decoy these\n",
    "missiles by creating more multiple heat signatures hotter than that of the\n",
    "aircraft for the missile to lock onto and guide away from the defending aircraft.\n",
    "Radar homing missiles could sometimes be confused by surface objects or\n",
    "geographical features causing clutter for the guidance system of either the\n",
    "missile or ground station guiding it. Chaff is another option in the case that the\n",
    "aircraft is too high up to use geographical obstructions. Pilots have to be\n",
    "aware of the potential threats and learn to distinguish between the two where\n",
    "\n",
    "possible. They use the RWR (radar warning receiver) to discern the types of\n",
    "signals hitting their aircraft.\"\"\")"
   ]
  },
  {
   "cell_type": "code",
   "execution_count": 7,
   "id": "08e4bf7c",
   "metadata": {},
   "outputs": [
    {
     "data": {
      "text/html": [
       "<span class=\"tex2jax_ignore\"><div class=\"entities\" style=\"line-height: 2.5; direction: ltr\">Many early air-to-air and surface-to-air missiles had very simple infrared</br>homing (&quot;heat seeking&quot;) guidance systems with a narrow field of view. These</br>missiles could be avoided by simply turning sharply, which essentially caused</br>the missile to lose sight of the target aircraft. Another tactic was to exploit a</br>missile&amp;#39;s limited range by performing evasive manoeuvres until the missiles</br>had run out of fuel.Modern infrared missiles, like the AIM-9 Sidewinder, have</br>a more advanced guidance system. Supercooled infrared detectors help the</br>missile find a possible exhaust source, and software assists the missile in</br>flying towards its target. \n",
       "<mark class=\"entity\" style=\"background: #ddd; padding: 0.45em 0.6em; margin: 0 0.25em; line-height: 1; border-radius: 0.35em;\">\n",
       "    Pilots\n",
       "    <span style=\"font-size: 0.8em; font-weight: bold; line-height: 1; border-radius: 0.35em; vertical-align: middle; margin-left: 0.5rem\">PROFESSION</span>\n",
       "</mark>\n",
       " normally drop flares to confuse or decoy these</br>missiles by creating more multiple heat signatures hotter than that of the</br>aircraft for the missile to lock onto and guide away from the defending aircraft.</br>Radar homing missiles could sometimes be confused by surface objects or</br>geographical features causing clutter for the guidance system of either the</br>missile or ground station guiding it. Chaff is another option in the case that the</br>aircraft is too high up to use geographical obstructions. \n",
       "<mark class=\"entity\" style=\"background: #ddd; padding: 0.45em 0.6em; margin: 0 0.25em; line-height: 1; border-radius: 0.35em;\">\n",
       "    Pilots\n",
       "    <span style=\"font-size: 0.8em; font-weight: bold; line-height: 1; border-radius: 0.35em; vertical-align: middle; margin-left: 0.5rem\">PROFESSION</span>\n",
       "</mark>\n",
       " have to be</br>aware of the potential threats and learn to distinguish between the two where</br></br>possible. They use the RWR (radar warning receiver) to discern the types of</br>signals hitting their aircraft.</div></span>"
      ],
      "text/plain": [
       "<IPython.core.display.HTML object>"
      ]
     },
     "metadata": {},
     "output_type": "display_data"
    }
   ],
   "source": [
    "spacy.displacy.render(doc, style=\"ent\", jupyter=True)"
   ]
  },
  {
   "cell_type": "code",
   "execution_count": 8,
   "id": "ac366207",
   "metadata": {},
   "outputs": [
    {
     "data": {
      "text/plain": [
       "[None]"
      ]
     },
     "execution_count": 8,
     "metadata": {},
     "output_type": "execute_result"
    }
   ],
   "source": [
    "prof = []\n",
    "[prof.append(entity.text.capitalize() ) for entity in doc.ents if entity.text not in prof]"
   ]
  },
  {
   "cell_type": "code",
   "execution_count": 9,
   "id": "9cd76f8e",
   "metadata": {},
   "outputs": [
    {
     "data": {
      "text/plain": [
       "['Pilots']"
      ]
     },
     "execution_count": 9,
     "metadata": {},
     "output_type": "execute_result"
    }
   ],
   "source": [
    "prof"
   ]
  },
  {
   "cell_type": "code",
   "execution_count": 67,
   "id": "66b98cb0",
   "metadata": {},
   "outputs": [],
   "source": [
    "from pattern.text.en import singularize\n",
    "\n",
    "print([singularize(plural) for plural in prof])"
   ]
  },
  {
   "cell_type": "code",
   "execution_count": null,
   "id": "adac0895",
   "metadata": {},
   "outputs": [],
   "source": []
  }
 ],
 "metadata": {
  "kernelspec": {
   "display_name": "Python 3 (ipykernel)",
   "language": "python",
   "name": "python3"
  },
  "language_info": {
   "codemirror_mode": {
    "name": "ipython",
    "version": 3
   },
   "file_extension": ".py",
   "mimetype": "text/x-python",
   "name": "python",
   "nbconvert_exporter": "python",
   "pygments_lexer": "ipython3",
   "version": "3.10.4"
  }
 },
 "nbformat": 4,
 "nbformat_minor": 5
}
